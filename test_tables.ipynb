{
 "cells": [
  {
   "cell_type": "code",
   "execution_count": 32,
   "id": "00d17187",
   "metadata": {},
   "outputs": [],
   "source": [
    "import configparser\n",
    "import psycopg2\n",
    "import pandas as pd"
   ]
  },
  {
   "cell_type": "markdown",
   "id": "4589e0f2",
   "metadata": {},
   "source": [
    "## Connect to Redshift Cluster"
   ]
  },
  {
   "cell_type": "code",
   "execution_count": 33,
   "id": "f22ef478",
   "metadata": {},
   "outputs": [],
   "source": [
    "config = configparser.ConfigParser()\n",
    "config.read('dwh.cfg')\n",
    "S3_LOG_DATA = config.get('S3', 'LOG_DATA')\n",
    "S3_LOG_JSONPATH = config.get('S3', 'LOG_JSONPATH')\n",
    "S3_SONG_DATA = config.get('S3', 'SONG_DATA')\n",
    "DWH_IAM_ROLE_ARN = config.get(\"IAM_ROLE\", \"ARN\")\n",
    "\n",
    "conn = psycopg2.connect(\"host={} dbname={} user={} password={} port={}\".format(*config['CLUSTER'].values()))\n",
    "conn.autocommit = True\n",
    "cur = conn.cursor()"
   ]
  },
  {
   "cell_type": "markdown",
   "id": "9ba3bd3c",
   "metadata": {},
   "source": [
    "## Sample Query: Top Users by Songplays"
   ]
  },
  {
   "cell_type": "code",
   "execution_count": null,
   "id": "b3ddcfb4",
   "metadata": {},
   "outputs": [],
   "source": [
    "query = \"\"\"\n",
    "SELECT users.user_id,\n",
    "       users.first_name,\n",
    "       users.last_name,\n",
    "       COUNT(DISTINCT songplays.song_id) AS num_songplays\n",
    "FROM users\n",
    "LEFT JOIN songsplays ON users.user_id = songplays.user_id\n",
    "GROUP BY users.user_id,\n",
    "         users.first_name,\n",
    "         users.last_name\n",
    "LIMIT 10\n",
    "\"\"\"\n",
    "\n",
    "column_names = ['user_id','first_name','last_name','num_songplays']\n",
    "\n",
    "cur.execute(query)\n",
    "tuples_list = cur.fetchall()\n",
    "pd.DataFrame(tuples_list, columns=column_names)"
   ]
  },
  {
   "cell_type": "markdown",
   "id": "a3c1c454",
   "metadata": {},
   "source": [
    "## Sample Query: Top Months by Songplays"
   ]
  },
  {
   "cell_type": "code",
   "execution_count": null,
   "id": "5d012310",
   "metadata": {},
   "outputs": [],
   "source": [
    "query = \"\"\"\n",
    "SELECT times.month,\n",
    "       times.year,\n",
    "       COUNT(DISTINCT songplays.song_id) AS num_songplays\n",
    "FROM times\n",
    "LEFT JOIN songsplays ON times.start_time = songplays.start_time\n",
    "GROUP BY times.month,\n",
    "         times.year\n",
    "LIMIT 5\n",
    "\"\"\"\n",
    "\n",
    "column_names = ['month','year','num_songplays']\n",
    "\n",
    "cur.execute(query)\n",
    "tuples_list = cur.fetchall()\n",
    "pd.DataFrame(tuples_list, columns=column_names)"
   ]
  },
  {
   "cell_type": "markdown",
   "id": "d8fbc713",
   "metadata": {},
   "source": [
    "## Sample Query: Top Artists by Songplays"
   ]
  },
  {
   "cell_type": "code",
   "execution_count": null,
   "id": "c33d4a6f",
   "metadata": {},
   "outputs": [],
   "source": [
    "query = \"\"\"\n",
    "SELECT artist.artist_id,\n",
    "       artist.artist_name,\n",
    "       COUNT(DISTINCT songplays.song_id) AS num_songplays\n",
    "FROM artists\n",
    "LEFT JOIN songsplays ON artist.artist_id = songplays.artist_id\n",
    "GROUP BY artist.artist_id,\n",
    "         artist.artist_name\n",
    "LIMIT 10\n",
    "\"\"\"\n",
    "\n",
    "column_names = ['artist_id','artist_name','num_songplays']\n",
    "\n",
    "cur.execute(query)\n",
    "tuples_list = cur.fetchall()\n",
    "pd.DataFrame(tuples_list, columns=column_names)"
   ]
  },
  {
   "cell_type": "code",
   "execution_count": null,
   "id": "1ca6ca1a",
   "metadata": {},
   "outputs": [],
   "source": [
    "conn.close()"
   ]
  }
 ],
 "metadata": {
  "kernelspec": {
   "display_name": "Python 3 (ipykernel)",
   "language": "python",
   "name": "python3"
  },
  "language_info": {
   "codemirror_mode": {
    "name": "ipython",
    "version": 3
   },
   "file_extension": ".py",
   "mimetype": "text/x-python",
   "name": "python",
   "nbconvert_exporter": "python",
   "pygments_lexer": "ipython3",
   "version": "3.9.12"
  }
 },
 "nbformat": 4,
 "nbformat_minor": 5
}
